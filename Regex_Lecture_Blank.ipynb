{
 "cells": [
  {
   "cell_type": "markdown",
   "metadata": {},
   "source": [
    "# Regular Expressions"
   ]
  },
  {
   "cell_type": "markdown",
   "metadata": {},
   "source": [
    "# Tasks today:\n",
    "1) <b>Importing</b> <br>\n",
    "2) <b>Using Regular Expressions</b> <br>\n",
    " &nbsp;&nbsp;&nbsp;&nbsp; a) re.compile() <br>\n",
    " &nbsp;&nbsp;&nbsp;&nbsp; b) re.match() <br>\n",
    " &nbsp;&nbsp;&nbsp;&nbsp; c) re.findall() <br>\n",
    " &nbsp;&nbsp;&nbsp;&nbsp; d) re.search() <br>\n",
    "3) <b>Sets</b> <br>\n",
    " &nbsp;&nbsp;&nbsp;&nbsp; a) Integer Ranges <br>\n",
    " &nbsp;&nbsp;&nbsp;&nbsp; b) Character Ranges <br>\n",
    "4) <b>Counting Occurences</b> <br>\n",
    " &nbsp;&nbsp;&nbsp;&nbsp; a) {x} <br>\n",
    " &nbsp;&nbsp;&nbsp;&nbsp; b) {, x} <br>\n",
    " &nbsp;&nbsp;&nbsp;&nbsp; c) {?} <br>\n",
    " &nbsp;&nbsp;&nbsp;&nbsp; d) {*} <br>\n",
    " &nbsp;&nbsp;&nbsp;&nbsp; e) {+} <br>\n",
    "5) <b>In-Class Exercise #1</b> <br>\n",
    "6) <b>Escaping Characters</b> <br>\n",
    "7) <b>Grouping</b> <br>\n",
    "8) <b>In-Class Exercise #2</b> <br>\n",
    "9) <b>Opening a File</b> <br>\n",
    " &nbsp;&nbsp;&nbsp;&nbsp; a) open() <br>\n",
    " &nbsp;&nbsp;&nbsp;&nbsp; b) with open() <br>\n",
    " &nbsp;&nbsp;&nbsp;&nbsp; c) re.match() <br>\n",
    " &nbsp;&nbsp;&nbsp;&nbsp; d) re.search() <br>\n",
    " &nbsp;&nbsp;&nbsp;&nbsp; e) Store the String in a Variable <br>\n",
    "10) <b>Regex Project</b> <br>"
   ]
  },
  {
   "cell_type": "markdown",
   "metadata": {},
   "source": [
    "### Importing <br>\n",
    "<p>Regular Expressions are universal throughout most programming languages... They are generally imported through the module 're'.</p>"
   ]
  },
  {
   "cell_type": "code",
   "execution_count": 2,
   "metadata": {},
   "outputs": [],
   "source": [
    "# import re\n",
    "import re"
   ]
  },
  {
   "cell_type": "markdown",
   "metadata": {},
   "source": [
    "### Using Regular Expressions <br>\n",
    "<p>Regular expressions give us the ability to search for patterns within text, strings, files, etc. They serve several uses, such as; security measures, searching, filtering, pattern recognition, and more...</p>"
   ]
  },
  {
   "cell_type": "markdown",
   "metadata": {},
   "source": [
    "##### re.compile()"
   ]
  },
  {
   "cell_type": "code",
   "execution_count": 32,
   "metadata": {},
   "outputs": [],
   "source": [
    "# using compile, predetermines the string to be used in regular expression methods\n",
    "thievesPattern = re.compile(\"thieves\")\n"
   ]
  },
  {
   "cell_type": "markdown",
   "metadata": {},
   "source": [
    "##### re.match()"
   ]
  },
  {
   "cell_type": "code",
   "execution_count": 25,
   "metadata": {},
   "outputs": [
    {
     "name": "stdout",
     "output_type": "stream",
     "text": [
      "<re.Match object; span=(0, 7), match='thieves'>\n",
      "(0, 7)\n",
      "thieves\n",
      "None\n",
      "$ None\n"
     ]
    }
   ],
   "source": [
    "# match will produce a match object only if the pattern you are searching for is at the very beginning of the string\n",
    "thievesMatch = thievesPattern.match(\"thieves are gonna do this thing\")\n",
    "\n",
    "print(thievesMatch)\n",
    "print(thievesMatch.span())\n",
    "print(thievesMatch.group())\n",
    "\n",
    "thievesMatch = thievesPattern.match(\"are gonna do this thing thieves\")\n",
    "\n",
    "try:\n",
    "    print(thievesMatch.span())\n",
    "    print(thievesMatch.group())\n",
    "except:\n",
    "    print(thievesMatch)"
   ]
  },
  {
   "cell_type": "markdown",
   "metadata": {},
   "source": [
    "##### re.findall()"
   ]
  },
  {
   "cell_type": "code",
   "execution_count": 38,
   "metadata": {},
   "outputs": [
    {
     "name": "stdout",
     "output_type": "stream",
     "text": [
      "['thieves', 'thieves']\n"
     ]
    }
   ],
   "source": [
    "pattern = re.compile('thieves')\n",
    "\n",
    "myMatch = pattern.findall('thieves are about to crush regex thieves')\n",
    "\n",
    "print(myMatch)"
   ]
  },
  {
   "cell_type": "markdown",
   "metadata": {},
   "source": [
    "##### re.search()"
   ]
  },
  {
   "cell_type": "code",
   "execution_count": 37,
   "metadata": {},
   "outputs": [
    {
     "name": "stdout",
     "output_type": "stream",
     "text": [
      "<re.Match object; span=(10, 17), match='thieves'>\n"
     ]
    }
   ],
   "source": [
    "pattern = re.compile('thieves')\n",
    "\n",
    "myMatch = pattern.search('there are thieves among us')\n",
    "\n",
    "print(myMatch)"
   ]
  },
  {
   "cell_type": "markdown",
   "metadata": {},
   "source": [
    "### Sets <br>\n",
    "<p>The following cells will allow you to use regular expressions to search for certain values within a range such as numbers 1 through 4.</p>"
   ]
  },
  {
   "cell_type": "markdown",
   "metadata": {},
   "source": [
    "##### [a-z] or [A-Z] - any lowercase/uppercase letters from a to z<br/>[^2] - anything that's not 2"
   ]
  },
  {
   "cell_type": "markdown",
   "metadata": {},
   "source": [
    "##### Integer Ranges"
   ]
  },
  {
   "cell_type": "code",
   "execution_count": 52,
   "metadata": {},
   "outputs": [
    {
     "name": "stdout",
     "output_type": "stream",
     "text": [
      "['0', '1', '3', '3', '4', '2', '1']\n",
      "['33', '21']\n",
      "['33', '21', '27', '29', '98']\n",
      "['334']\n"
     ]
    }
   ],
   "source": [
    "allNum = re.compile('\\d')\n",
    "allNum = re.compile(r'[0-9]')\n",
    "\n",
    "match = allNum.findall('a b c d 0 1 d f 334 f21')\n",
    "\n",
    "print(match)\n",
    "\n",
    "allNum = re.compile(r'[0-9][0-9]')\n",
    "\n",
    "match = allNum.findall('a b c d 0 1 d f 334 f21')\n",
    "\n",
    "print(match)\n",
    "\n",
    "match = allNum.findall('a b c d 0 1 d f 334 f21 g278 g2998')\n",
    "\n",
    "print(match)\n",
    "\n",
    "allNum = re.compile(r'[0-9][0-9][0-9]')\n",
    "\n",
    "match = allNum.findall('a b c d 0 1 d f 334 f21')\n",
    "\n",
    "print(match)"
   ]
  },
  {
   "cell_type": "markdown",
   "metadata": {},
   "source": [
    "##### Character Ranges"
   ]
  },
  {
   "cell_type": "code",
   "execution_count": 62,
   "metadata": {},
   "outputs": [
    {
     "name": "stdout",
     "output_type": "stream",
     "text": [
      "['e', 'l', 'c', 'o', 'm', 'e', 't', 'o', 'c', 'l', 'a', 's', 's']\n",
      "['W', 'e', 'l', 'c', 'o', 'm', 'e', 't', 'o', 'c', 'l', 'a', 's', 's', 'E', 'V', 'E', 'R', 'Y', 'O', 'N', 'E']\n"
     ]
    }
   ],
   "source": [
    "azPattern = re.compile(r'[a-z]')\n",
    "\n",
    "matches = azPattern.findall(\"Welcome to class EVERYONE\")\n",
    "\n",
    "print(matches)\n",
    "\n",
    "aZPattern = re.compile(r'[a-zA-Z]')\n",
    "\n",
    "matches = aZPattern.findall(\"Welcome to class EVERYONE\")\n",
    "\n",
    "print(matches)"
   ]
  },
  {
   "cell_type": "markdown",
   "metadata": {},
   "source": [
    "### Counting Occurences"
   ]
  },
  {
   "cell_type": "markdown",
   "metadata": {},
   "source": [
    "##### {x} - something that occurs {num_of_times}"
   ]
  },
  {
   "cell_type": "code",
   "execution_count": 66,
   "metadata": {},
   "outputs": [
    {
     "name": "stdout",
     "output_type": "stream",
     "text": [
      "['334', '278', '299']\n",
      "[' 33']\n"
     ]
    }
   ],
   "source": [
    "pattern = re.compile(r'[0-9]{3}')\n",
    "\n",
    "match = pattern.findall('a b c d 0 1 d f 334 f21 g278 g2998')\n",
    "\n",
    "print(match)\n",
    "\n",
    "pattern = re.compile(r'[0-9]{2}')\n",
    "\n",
    "match = pattern.findall('a b c d 0 1 d f 334 f21 g278 g2998')\n",
    "\n",
    "print(match)\n"
   ]
  },
  {
   "cell_type": "markdown",
   "metadata": {},
   "source": [
    "##### {x, x} - something that occurs between x and x times"
   ]
  },
  {
   "cell_type": "code",
   "execution_count": 67,
   "metadata": {},
   "outputs": [
    {
     "name": "stdout",
     "output_type": "stream",
     "text": [
      "['334', '21', '278', '299']\n"
     ]
    }
   ],
   "source": [
    "pattern = re.compile(r'[0-9]{2,3}')\n",
    "\n",
    "match = pattern.findall('a b c d 0 1 d f 334 f21 g278 g2998')\n",
    "\n",
    "print(match)"
   ]
  },
  {
   "cell_type": "markdown",
   "metadata": {},
   "source": [
    "##### ? - something that occurs 0 or 1 time"
   ]
  },
  {
   "cell_type": "code",
   "execution_count": 80,
   "metadata": {},
   "outputs": [
    {
     "name": "stdout",
     "output_type": "stream",
     "text": [
      "['Mr', 'Mrs']\n",
      "['Mr', 'Mrs']\n",
      "['Mrs']\n"
     ]
    }
   ],
   "source": [
    "pattern = re.compile(r'Mrs?')\n",
    "\n",
    "matches = pattern.findall(\"Hello Mr. Katina how is the Mrs.\")\n",
    "\n",
    "print(matches)\n",
    "\n",
    "pattern = re.compile(r'Mrs?')\n",
    "\n",
    "matches = pattern.findall(\"Hello Mr. Katina how is the Mrssssssss.\")\n",
    "\n",
    "print(matches)\n",
    "\n",
    "pattern = re.compile(r'Mr?s')\n",
    "\n",
    "matches = pattern.findall(\"Hello Mr. Katina how is the Mrs.\")\n",
    "\n",
    "print(matches)"
   ]
  },
  {
   "cell_type": "markdown",
   "metadata": {},
   "source": [
    "##### * - something that occurs at least 0 times"
   ]
  },
  {
   "cell_type": "code",
   "execution_count": 87,
   "metadata": {},
   "outputs": [
    {
     "name": "stdout",
     "output_type": "stream",
     "text": [
      "['Mr', 'Mrs']\n",
      "['Mr', 'Mrssssssss']\n",
      "['Mr', 'Mrsdsfsdkjflks']\n",
      "['12345', '', '6789', '']\n"
     ]
    }
   ],
   "source": [
    "pattern = re.compile(r'Mrs*')\n",
    "\n",
    "matches = pattern.findall(\"Hello Mr. Katina how is the Mrs.\")\n",
    "\n",
    "print(matches)\n",
    "\n",
    "pattern = re.compile(r'Mrs*')\n",
    "\n",
    "matches = pattern.findall(\"Hello Mr. Katina how is the Mrssssssss.\")\n",
    "\n",
    "print(matches)\n",
    "\n",
    "pattern = re.compile(r'Mr[a-z]*')\n",
    "\n",
    "matches = pattern.findall(\"Hello Mr. Katina how is the Mrsdsfsdkjflks not included.\")\n",
    "\n",
    "print(matches)\n",
    "\n",
    "pattern = re.compile(r'[0-9]*')\n",
    "\n",
    "matches = pattern.findall('12345 6789')\n",
    "\n",
    "print(matches)"
   ]
  },
  {
   "cell_type": "markdown",
   "metadata": {},
   "source": [
    "##### + - something that occurs at least once"
   ]
  },
  {
   "cell_type": "code",
   "execution_count": 98,
   "metadata": {},
   "outputs": [
    {
     "name": "stdout",
     "output_type": "stream",
     "text": [
      "['Mrs']\n"
     ]
    }
   ],
   "source": [
    "pattern = re.compile(r'Mrs+')\n",
    "\n",
    "matches = pattern.findall(\"Hello Mr Katina how is the Mrs.\")\n",
    "\n",
    "print(matches)"
   ]
  },
  {
   "cell_type": "markdown",
   "metadata": {},
   "source": [
    "##### In-class exercise 1: \n",
    "\n",
    "Use a regular expression to find every number in the given string"
   ]
  },
  {
   "cell_type": "code",
   "execution_count": 104,
   "metadata": {},
   "outputs": [
    {
     "name": "stdout",
     "output_type": "stream",
     "text": [
      "['10909090', '1', '2']\n"
     ]
    }
   ],
   "source": [
    "my_string = \"This string has 10909090 numbers, but it is only 1 string. I hope you solve this 2day.\"\n",
    "\n",
    "# Output: ['10909090','1',2]\n",
    "\n",
    "pattern = re.compile(r'[0-9]+') # both work\n",
    "pattern = re.compile('\\d+') # both work\n",
    "\n",
    "match = pattern.findall(my_string)\n",
    "\n",
    "print(match)\n"
   ]
  },
  {
   "cell_type": "markdown",
   "metadata": {},
   "source": [
    "### Escaping Characters"
   ]
  },
  {
   "cell_type": "markdown",
   "metadata": {},
   "source": [
    "##### \\w - look for any Alphanumeric character<br/>\\W - look for anything that isnt a Alphanumeric character"
   ]
  },
  {
   "cell_type": "code",
   "execution_count": 123,
   "metadata": {},
   "outputs": [
    {
     "name": "stdout",
     "output_type": "stream",
     "text": [
      "['This', 'is', 'an', 'interesting', 'concept', 'that', 'takes', '100', '23874928374', 'years', 'to', 'understand']\n",
      "[' ', ' ', ' ', ' ', ' ', ' ', ' $', ' & ', ' ', ' ', ' ', '!']\n"
     ]
    }
   ],
   "source": [
    "pattern = re.compile(f'\\w+')\n",
    "\n",
    "matches = pattern.findall('This is an interesting concept that takes $100 & 23874928374 years to understand!')\n",
    "\n",
    "print(matches)\n",
    "\n",
    "pattern = re.compile(f'\\W+')\n",
    "\n",
    "matches = pattern.findall('This is an interesting concept that takes $100 & 23874928374 years to understand!')\n",
    "\n",
    "print(matches)"
   ]
  },
  {
   "cell_type": "markdown",
   "metadata": {},
   "source": [
    "##### \\d - look for any digit 0-9<br/>\\D - look for anything that isnt a digit"
   ]
  },
  {
   "cell_type": "code",
   "execution_count": 124,
   "metadata": {},
   "outputs": [
    {
     "name": "stdout",
     "output_type": "stream",
     "text": [
      "['123', '456', '789']\n",
      "['Phone number = (', ') ', '-']\n"
     ]
    }
   ],
   "source": [
    "pattern = re.compile(r'\\d+')\n",
    "\n",
    "matches = pattern.findall('Phone number = (123) 456-789')\n",
    "\n",
    "print(matches)\n",
    "\n",
    "pattern = re.compile(r'\\D+')\n",
    "\n",
    "matches = pattern.findall('Phone number = (123) 456-789')\n",
    "\n",
    "print(matches)"
   ]
  },
  {
   "cell_type": "markdown",
   "metadata": {},
   "source": [
    "##### \\s - look for any white space<br/>\\S - look for anything that isnt whitespace"
   ]
  },
  {
   "cell_type": "code",
   "execution_count": 129,
   "metadata": {},
   "outputs": [
    {
     "name": "stdout",
     "output_type": "stream",
     "text": [
      "[' ', ' ', ' ', ' ', ' ', '            ', ' ', ' ', '                             ']\n",
      "['There', 'is', 'white.', 'space', 'here', '======>', 'and', 'here', '======>']\n"
     ]
    }
   ],
   "source": [
    "pattern = re.compile('\\s+')\n",
    "\n",
    "matches = pattern.findall(\"There is white. space here ======>            and here ======>                             \")\n",
    "\n",
    "print(matches)\n",
    "\n",
    "pattern = re.compile('\\S+')\n",
    "\n",
    "matches = pattern.findall(\"There is white. space here ======>            and here ======>                             \")\n",
    "\n",
    "print(matches)"
   ]
  },
  {
   "cell_type": "markdown",
   "metadata": {},
   "source": [
    "### Grouping"
   ]
  },
  {
   "cell_type": "code",
   "execution_count": 157,
   "metadata": {},
   "outputs": [
    {
     "name": "stdout",
     "output_type": "stream",
     "text": [
      "['Max Smith', 'aaron rodgers', 'Sam Darnold', 'LeBron James', 'Micheal Jordan', 'Kevin Durant', 'Patrick McCormick', \"Sean O'Malley\"]\n",
      "Max Smith\n",
      "Invalid name...\n",
      "Sam Darnold\n",
      "LeBron James\n",
      "Micheal Jordan\n",
      "Kevin Durant\n",
      "Patrick McCormick\n",
      "Sean O'Malley\n"
     ]
    }
   ],
   "source": [
    "my_string_again = \"Max Smith, aaron rodgers, Sam Darnold,LeBron James, Micheal Jordan, Kevin Durant, Patrick McCormick, Sean O'Malley\"\n",
    "\n",
    "# Group of names Regular Expression Compiler\n",
    "\n",
    "splitNames = my_string_again.split(',')\n",
    "\n",
    "splitNames = [name.strip() for name in splitNames]\n",
    "\n",
    "print(splitNames)\n",
    "\n",
    "# find names written in proper casing \"John Lastname\"\n",
    "\n",
    "pattern = re.compile(r'[A-Z]\\'[a-zA-Z]+ [A-Z]\\'?[a-zA-Z]+')\n",
    "\n",
    "match = [pattern.search(name) for name in splitNames]\n",
    "\n",
    "for name in match:\n",
    "    if name:\n",
    "        print(name.group())\n",
    "    else:\n",
    "        print(\"Invalid name...\")\n"
   ]
  },
  {
   "cell_type": "markdown",
   "metadata": {},
   "source": [
    "##### In-class Exercise 2:\n",
    "\n",
    "Write a function using regular expressions to find the domain name in the given email addresses (and return None for the invalid email addresses)<br><b>HINT: Use '|' for either or</b>"
   ]
  },
  {
   "cell_type": "code",
   "execution_count": 181,
   "metadata": {},
   "outputs": [
    {
     "name": "stdout",
     "output_type": "stream",
     "text": [
      "Invalid email...\n",
      "pocohontas1776@gmail.com\n",
      "Invalid email...\n",
      "yourfavoriteband@g6.org\n",
      "Invalid email...\n"
     ]
    }
   ],
   "source": [
    "my_emails = [\"thieves@codingcodingsummit.orgcom\", \"pocohontas1776@gmail.com\", \"helloworld@aol..com\",\n",
    "             \"yourfavoriteband@g6.org\", \"@codingsummit.com\"]\n",
    "\n",
    "# You can also use the $ at the end of your compile expression -- this stops the search\n",
    "emailPattern = re.compile(r'\\w+@\\w+.(com|org)$')\n",
    "\n",
    "match = [emailPattern.search(email) for email in my_emails]\n",
    "\n",
    "for name in match:\n",
    "    if name:\n",
    "        print(name.group())\n",
    "    else:\n",
    "        print(\"Invalid email...\")\n",
    "\n",
    "#Expected output:\n",
    "#None\n",
    "#pocohontas1776@gmail.com\n",
    "#None\n",
    "#yourfavoriteband@g6.org\n",
    "#None\n"
   ]
  },
  {
   "cell_type": "markdown",
   "metadata": {},
   "source": [
    "### Opening a File <br>\n",
    "<p>Python gives us a couple ways to import files, below are the two used most often.</p>"
   ]
  },
  {
   "cell_type": "markdown",
   "metadata": {},
   "source": [
    "##### open()"
   ]
  },
  {
   "cell_type": "code",
   "execution_count": 187,
   "metadata": {},
   "outputs": [
    {
     "name": "stdout",
     "output_type": "stream",
     "text": [
      "Hawkins, Derek\tderek@codingtemple.com\t(555) 555-5555\tTeacher, Coding Temple\t@derekhawkins\n",
      "Zhai, Mo\tmozhai@codingtemple.com\t(555) 555-5554\tTeacher, Coding Temple\n",
      "Johnson, Joe\tjoejohnson@codingtemple.com\t\tJohson, Joe\n",
      "Osterberg, Sven-Erik\tgovernor@norrbotten.co.se\t\tGovernor, Norrbotten\t@sverik\n",
      ", Tim\ttim@killerrabbit.com\t\tEnchanter, Killer Rabbit Cave\n",
      "Butz, Ryan\tryanb@codingtemple.com\t(555) 555-5543\tCEO, Coding Temple\t@ryanbutz\n",
      "Doctor, The\tdoctor+companion@tardis.co.uk\t\tTime Lord, Gallifrey\n",
      "Exampleson, Example\tme@example.com\t555-555-5552\tExample, Example Co.\t@example\n",
      "Pael, Ripal\tripalp@codingtemple.com\t(555) 555-5553\tTeacher, Coding Temple\t@ripalp\n",
      "Vader, Darth\tdarth-vader@empire.gov\t(555) 555-4444\tSith Lord, Galactic Empire\t@darthvader\n",
      "Fernandez de la Vega Sanz, Maria Teresa\tmtfvs@spain.gov\t\tFirst Deputy Prime Minister, Spanish Gov\n"
     ]
    }
   ],
   "source": [
    "f = open('names.txt')\n",
    "\n",
    "data = f.read()\n",
    "\n",
    "print(data)\n",
    "\n",
    "f.close()"
   ]
  },
  {
   "cell_type": "markdown",
   "metadata": {},
   "source": [
    "##### with open()"
   ]
  },
  {
   "cell_type": "code",
   "execution_count": 190,
   "metadata": {},
   "outputs": [
    {
     "name": "stdout",
     "output_type": "stream",
     "text": [
      "Hawkins, Derek\tderek@codingtemple.com\t(555) 555-5555\tTeacher, Coding Temple\t@derekhawkins\n",
      "Zhai, Mo\tmozhai@codingtemple.com\t(555) 555-5554\tTeacher, Coding Temple\n",
      "Johnson, Joe\tjoejohnson@codingtemple.com\t\tJohson, Joe\n",
      "Osterberg, Sven-Erik\tgovernor@norrbotten.co.se\t\tGovernor, Norrbotten\t@sverik\n",
      ", Tim\ttim@killerrabbit.com\t\tEnchanter, Killer Rabbit Cave\n",
      "Butz, Ryan\tryanb@codingtemple.com\t(555) 555-5543\tCEO, Coding Temple\t@ryanbutz\n",
      "Doctor, The\tdoctor+companion@tardis.co.uk\t\tTime Lord, Gallifrey\n",
      "Exampleson, Example\tme@example.com\t555-555-5552\tExample, Example Co.\t@example\n",
      "Pael, Ripal\tripalp@codingtemple.com\t(555) 555-5553\tTeacher, Coding Temple\t@ripalp\n",
      "Vader, Darth\tdarth-vader@empire.gov\t(555) 555-4444\tSith Lord, Galactic Empire\t@darthvader\n",
      "Fernandez de la Vega Sanz, Maria Teresa\tmtfvs@spain.gov\t\tFirst Deputy Prime Minister, Spanish Gov\n"
     ]
    }
   ],
   "source": [
    "with open('names.txt') as f:\n",
    "    data = f.read()\n",
    "    print(data)"
   ]
  },
  {
   "cell_type": "markdown",
   "metadata": {},
   "source": [
    "##### re.match()"
   ]
  },
  {
   "cell_type": "code",
   "execution_count": 191,
   "metadata": {},
   "outputs": [
    {
     "name": "stdout",
     "output_type": "stream",
     "text": [
      "<re.Match object; span=(0, 7), match='Hawkins'>\n"
     ]
    }
   ],
   "source": [
    "pattern = re.compile(r'[A-Z][a-zA-Z]+')\n",
    "\n",
    "found = pattern.match(data)\n",
    "\n",
    "print(found)"
   ]
  },
  {
   "cell_type": "markdown",
   "metadata": {},
   "source": [
    "##### re.search()"
   ]
  },
  {
   "cell_type": "code",
   "execution_count": 193,
   "metadata": {},
   "outputs": [
    {
     "name": "stdout",
     "output_type": "stream",
     "text": [
      "<re.Match object; span=(703, 712), match='Sith Lord'>\n"
     ]
    }
   ],
   "source": [
    "pattern = re.compile('Sith Lord')\n",
    "\n",
    "found = pattern.search(data)\n",
    "\n",
    "print(found)"
   ]
  },
  {
   "cell_type": "markdown",
   "metadata": {},
   "source": [
    "##### Search for User-Input"
   ]
  },
  {
   "cell_type": "code",
   "execution_count": 195,
   "metadata": {},
   "outputs": [
    {
     "name": "stdout",
     "output_type": "stream",
     "text": [
      "<re.Match object; span=(652, 664), match='Vader, Darth'>\n"
     ]
    }
   ],
   "source": [
    "userInput = input(\"What name would you like to search?: \")\n",
    "\n",
    "pattern = re.compile(userInput)\n",
    "\n",
    "found = pattern.search(data)\n",
    "\n",
    "print(found)"
   ]
  },
  {
   "cell_type": "markdown",
   "metadata": {},
   "source": [
    "### Regex project\n",
    "\n",
    "Use python to read the file regex_test.txt and print the last name on each line using regular expressions and groups (return None for names with no first and last name, or names that aren't properly capitalized)\n",
    "##### Hint: use with open() and readlines()"
   ]
  },
  {
   "cell_type": "code",
   "execution_count": 272,
   "metadata": {},
   "outputs": [
    {
     "name": "stdout",
     "output_type": "stream",
     "text": [
      "Abraham Lincoln\n",
      "Andrew P Garfield\n",
      "Connor Milliken\n",
      "Jordan Alexander Williams\n",
      "None\n",
      "None\n"
     ]
    }
   ],
   "source": [
    "pattern = re.compile(r'[A-Z][a-z]+\\s?([A-Z][a-z]*)* [A-Z][a-z]+$')\n",
    "\n",
    "with open('regex_test.txt') as f:\n",
    "    [print(name.group() if name else 'None') for name in [pattern.search(name) for name in f.read().split('\\n')]]\n",
    "\n",
    "    \n"
   ]
  }
 ],
 "metadata": {
  "kernelspec": {
   "display_name": "Python 3.10.8 64-bit (microsoft store)",
   "language": "python",
   "name": "python3"
  },
  "language_info": {
   "codemirror_mode": {
    "name": "ipython",
    "version": 3
   },
   "file_extension": ".py",
   "mimetype": "text/x-python",
   "name": "python",
   "nbconvert_exporter": "python",
   "pygments_lexer": "ipython3",
   "version": "3.11.4"
  },
  "vscode": {
   "interpreter": {
    "hash": "aa82987a71ca0339a52998cd22613b0c002bda8349fa32a0cb67ceec3936a2bf"
   }
  }
 },
 "nbformat": 4,
 "nbformat_minor": 2
}
